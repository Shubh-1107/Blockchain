{
  "nbformat": 4,
  "nbformat_minor": 0,
  "metadata": {
    "colab": {
      "name": "MyFirstBlockchain.ipynb",
      "provenance": [],
      "collapsed_sections": [],
      "authorship_tag": "ABX9TyMjPLkWG4irEjID6IATtKbK",
      "include_colab_link": true
    },
    "kernelspec": {
      "name": "python3",
      "display_name": "Python 3"
    },
    "language_info": {
      "name": "python"
    }
  },
  "cells": [
    {
      "cell_type": "markdown",
      "metadata": {
        "id": "view-in-github",
        "colab_type": "text"
      },
      "source": [
        "<a href=\"https://colab.research.google.com/github/Shubh-1107/Blockchain/blob/main/MyFirstBlockchain.ipynb\" target=\"_parent\"><img src=\"https://colab.research.google.com/assets/colab-badge.svg\" alt=\"Open In Colab\"/></a>"
      ]
    },
    {
      "cell_type": "markdown",
      "source": [
        "**My First Blockchain**\n",
        "\n",
        "At first import the hashlib library for hash function."
      ],
      "metadata": {
        "id": "Eq17ngI2A7pL"
      }
    },
    {
      "cell_type": "code",
      "execution_count": 1,
      "metadata": {
        "id": "GanD6gOUArN9"
      },
      "outputs": [],
      "source": [
        "import hashlib"
      ]
    },
    {
      "cell_type": "markdown",
      "source": [
        "Then we will create a single block which is also called as a genesis (first block of the chain). Every single block contains **Data**, **Previous Hash** and **Its own Hash**."
      ],
      "metadata": {
        "id": "sxmL6ijeBI9e"
      }
    },
    {
      "cell_type": "code",
      "source": [
        "class Block:\n",
        "  def __init__(shubh, data, hash, prv_hash):\n",
        "    shubh.data = data\n",
        "    shubh.hash = hash\n",
        "    shubh.prv_hash = prv_hash"
      ],
      "metadata": {
        "id": "vUpSEohgA3Wf"
      },
      "execution_count": 2,
      "outputs": []
    },
    {
      "cell_type": "markdown",
      "source": [
        "Hash function generator"
      ],
      "metadata": {
        "id": "CweUcR0jGP2Q"
      }
    },
    {
      "cell_type": "code",
      "source": [
        "def hashGenerator(data):\n",
        "  result = hashlib.sha256(data.encode()) # encoding the data into SHA256 and then convert it into hexadecimal. we are using SHA256 because we cn pass any sort of data.\n",
        "  return result.hexdigest()"
      ],
      "metadata": {
        "id": "Rf-ODk0uC_rJ"
      },
      "execution_count": 3,
      "outputs": []
    },
    {
      "cell_type": "code",
      "source": [
        "class Blockchain:\n",
        "  def __init__(shubh):\n",
        "    lastHash = hashGenerator('Blockchaindevelopment')  # The word Blockchaindevelopment will get converted into hash function that we generated for last block.\n",
        "    firstHash = hashGenerator('Shubhambhole')  # The word Shubhambhole will get converted into hash function that we generated for first block.\n",
        "    genesis = Block('gen_data', firstHash, lastHash) # Creating Block. Here gen_data is our main data which has above firstHash and lasthash.\n",
        "    shubh.chain = [genesis] # Making genesis a part of our chain.\n",
        "\n",
        "  def add_block(shubh, data):\n",
        "    prv_hash = shubh.chain[-1].hash  # -1 represents the last block of the blockchain. So the prv_hash will be used to join the next block.\n",
        "    hash = hashGenerator(data+prv_hash) \n",
        "    block = Block(data, hash, prv_hash)\n",
        "    shubh.chain.append(block)"
      ],
      "metadata": {
        "id": "x_cI-uwuDS0Y"
      },
      "execution_count": 4,
      "outputs": []
    },
    {
      "cell_type": "code",
      "source": [
        "blck = Blockchain()\n",
        "\n",
        "blck.add_block('Shubham Bhole')\n",
        "blck.add_block('Kartik More')\n",
        "blck.add_block('Omkar Karande')\n",
        "blck.add_block('Kedar Karche')\n",
        "\n",
        "for block in blck.chain:\n",
        "  print(block.__dict__)"
      ],
      "metadata": {
        "colab": {
          "base_uri": "https://localhost:8080/"
        },
        "id": "2no-KG_2E4Nv",
        "outputId": "bc9008d7-8028-4a5f-9a26-aa2c70bc4383"
      },
      "execution_count": 5,
      "outputs": [
        {
          "output_type": "stream",
          "name": "stdout",
          "text": [
            "{'data': 'gen_data', 'hash': 'cb5baa96def4d394bc95a437d9c8830d23c89e6a94cdcabc053ef6e757d5af51', 'prv_hash': '96e710db0d7f0a1442de7bad73ed8e1bcc950e3c2bf5dfdee8ade93dca2e9bfa'}\n",
            "{'data': 'Shubham Bhole', 'hash': 'dc763e808f5d4c4f98bc9c6bea48dad9547d437cc84b2d9a96a8de1bcab9e7d9', 'prv_hash': 'cb5baa96def4d394bc95a437d9c8830d23c89e6a94cdcabc053ef6e757d5af51'}\n",
            "{'data': 'Kartik More', 'hash': '638350048857bd546069d85f5b7f4d852e8b5e458b0a8c0bd0ec9cb1d653ce0e', 'prv_hash': 'dc763e808f5d4c4f98bc9c6bea48dad9547d437cc84b2d9a96a8de1bcab9e7d9'}\n",
            "{'data': 'Omkar Karande', 'hash': '6b00cb10145faecf7d95d84e8db7df67163ae99eaeeef5f79952dfbd62748349', 'prv_hash': '638350048857bd546069d85f5b7f4d852e8b5e458b0a8c0bd0ec9cb1d653ce0e'}\n",
            "{'data': 'Kedar Karche', 'hash': '0e8e2b1d8c259195c9f23127d188c2dac5e26136b11e8afea0b4f8c40f9dbed6', 'prv_hash': '6b00cb10145faecf7d95d84e8db7df67163ae99eaeeef5f79952dfbd62748349'}\n"
          ]
        }
      ]
    }
  ]
}